{
 "cells": [
  {
   "cell_type": "code",
   "execution_count": 2,
   "metadata": {},
   "outputs": [],
   "source": [
    "class SensorDataProcessor:\n",
    "    def process_data(self):\n",
    "        pass\n",
    "class Sensor(SensorDataProcessor):\n",
    "    def __init__(self, name, description, date_range, value):\n",
    "        self.name = name\n",
    "        self.description = description\n",
    "        self.date_range = date_range\n",
    "        self.value = value\n",
    "        self.forcasted_values = []\n",
    "        self.forcasted_date_range = []\n",
    "\n",
    "    def process_data(self):\n",
    "        # The basic data processing done by Sensor can be implemented here\n",
    "        pass\n",
    "class SensorDataDecorator(SensorDataProcessor):\n",
    "    def __init__(self, sensor_data_processor):\n",
    "        self._sensor_data_processor = sensor_data_processor\n",
    "\n",
    "    def process_data(self):\n",
    "        self._sensor_data_processor.process_data()\n",
    "\n",
    "class SensorDataCleanser(SensorDataDecorator):\n",
    "    def __init__(self, sensor_data_processor, deviations):\n",
    "        super().__init__(sensor_data_processor)\n",
    "        self.deviations = deviations\n",
    "\n",
    "    def process_data(self):\n",
    "        super().process_data()\n",
    "        # Add data cleansing logic here\n",
    "\n",
    "class SensorDataPredictor(SensorDataDecorator):\n",
    "    def __init__(self, sensor_data_processor, prediction_end_date):\n",
    "        super().__init__(sensor_data_processor)\n",
    "        self.prediction_end_date = prediction_end_date\n",
    "\n",
    "    def process_data(self):\n",
    "        super().process_data()\n",
    "        # Add data prediction logic here\n",
    "\n",
    "# Creating a Sensor object\n",
    "sensor = Sensor(\"Temperature Sensor\", \"Measures temperature\", [\"2023-01-01\", \"2023-01-02\"], [22, 23])\n",
    "\n",
    "# Enhancing Sensor with data cleansing\n",
    "sensor_with_cleansing = SensorDataCleanser(sensor, deviations=2)\n",
    "\n",
    "# Further enhancing the already cleansed sensor data with prediction capabilities\n",
    "sensor_with_cleansing_and_prediction = SensorDataPredictor(sensor_with_cleansing, \"2023-01-03\")\n",
    "\n",
    "# Now, sensor_with_cleansing_and_prediction.process_data() will process data through all the layers\n"
   ]
  }
 ],
 "metadata": {
  "kernelspec": {
   "display_name": "course02502",
   "language": "python",
   "name": "python3"
  },
  "language_info": {
   "codemirror_mode": {
    "name": "ipython",
    "version": 3
   },
   "file_extension": ".py",
   "mimetype": "text/x-python",
   "name": "python",
   "nbconvert_exporter": "python",
   "pygments_lexer": "ipython3",
   "version": "3.12.2"
  }
 },
 "nbformat": 4,
 "nbformat_minor": 2
}
